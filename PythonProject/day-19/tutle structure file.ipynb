{
 "cells": [
  {
   "cell_type": "code",
   "execution_count": null,
   "id": "initial_id",
   "metadata": {
    "collapsed": true
   },
   "outputs": [],
   "source": [
    "from turtle import Turtle, Screen\n",
    "\n",
    "tim = Turtle()\n",
    "screen = Screen()\n",
    "\n",
    "def move_forwords():\n",
    "    tim.forward(10)\n",
    "def move_backwords():\n",
    "    tim.backward(10)\n",
    "def turn_left():\n",
    "    new_heading = tim.heading() + 10\n",
    "    tim.setheading(new_heading)\n",
    "def turn_right():\n",
    "    new_heading = tim.heading() - 10\n",
    "    tim.setheading(new_heading)\n",
    "def clear():\n",
    "    tim.clear()\n",
    "    tim.penup()\n",
    "    tim.home()\n",
    "    tim.pendown()\n",
    "\n",
    "screen.listen()\n",
    "screen.onkey(move_forwords, \"w\")\n",
    "screen.onkey(move_backwords, \"s\")\n",
    "screen.onkey(turn_left, \"a\")\n",
    "screen.onkey(turn_right, \"d\")\n",
    "screen.onkey(clear, \"c\")\n",
    "\n",
    "\n",
    "\n",
    "\n",
    "\n",
    "screen.exitonclick()"
   ]
  },
  {
   "metadata": {},
   "cell_type": "markdown",
   "source": "",
   "id": "2aaf43eb9836c420"
  }
 ],
 "metadata": {
  "kernelspec": {
   "display_name": "Python 3",
   "language": "python",
   "name": "python3"
  },
  "language_info": {
   "codemirror_mode": {
    "name": "ipython",
    "version": 2
   },
   "file_extension": ".py",
   "mimetype": "text/x-python",
   "name": "python",
   "nbconvert_exporter": "python",
   "pygments_lexer": "ipython2",
   "version": "2.7.6"
  }
 },
 "nbformat": 4,
 "nbformat_minor": 5
}
